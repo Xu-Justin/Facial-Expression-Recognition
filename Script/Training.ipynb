{
 "cells": [
  {
   "cell_type": "code",
   "execution_count": 1,
   "id": "44327f43",
   "metadata": {},
   "outputs": [],
   "source": [
    "import os\n",
    "import numpy as np\n",
    "import Model\n",
    "\n",
    "from config import root, dir_dataset_train, dir_dataset_val\n",
    "\n",
    "import warnings\n",
    "warnings.filterwarnings(\"ignore\")"
   ]
  },
  {
   "cell_type": "code",
   "execution_count": 2,
   "id": "217954c6",
   "metadata": {},
   "outputs": [
    {
     "name": "stdout",
     "output_type": "stream",
     "text": [
      "Successfully loaded model from ../Model/v1\n"
     ]
    }
   ],
   "source": [
    "model_name = 'v1'\n",
    "dir_model =  os.path.join(root, 'Model/', model_name)\n",
    "\n",
    "# model = Model.create_model()\n",
    "model = Model.load_model(dir_model)"
   ]
  },
  {
   "cell_type": "code",
   "execution_count": 3,
   "id": "a4eb8196",
   "metadata": {},
   "outputs": [
    {
     "name": "stdout",
     "output_type": "stream",
     "text": [
      "INFO:tensorflow:Assets written to: ../Model/v1\\assets\n",
      "Successfully saved model to ../Model/v1\n"
     ]
    }
   ],
   "source": [
    "# Model.save_model(dir_model, model)"
   ]
  },
  {
   "cell_type": "code",
   "execution_count": 4,
   "id": "ae9daaf4",
   "metadata": {},
   "outputs": [],
   "source": [
    "def create_index(source):\n",
    "    return (source, os.listdir(source))\n",
    "\n",
    "def generator(source, index, num_batch):\n",
    "    while(True):\n",
    "        np.random.shuffle(index)\n",
    "        for i in range(num_batch):\n",
    "            X, y = np.load( os.path.join(source, index[i]), allow_pickle=True )\n",
    "            X = np.asarray( list(X), 'float32' )\n",
    "            y = np.asarray( list(y), 'float32' )\n",
    "            yield(X, y)    \n",
    "\n",
    "def create_generator(index):\n",
    "    source = index[0]\n",
    "    index = index[1]\n",
    "    num_batch = len(index)\n",
    "    gen = generator(source, index, num_batch)\n",
    "    return gen, num_batch"
   ]
  },
  {
   "cell_type": "code",
   "execution_count": 5,
   "id": "aae59452",
   "metadata": {},
   "outputs": [],
   "source": [
    "train_index = create_index(dir_dataset_train)\n",
    "val_index = create_index(dir_dataset_val)\n",
    "\n",
    "train_gen, train_num_batch = create_generator(train_index)\n",
    "val_gen, val_num_batch = create_generator(val_index)"
   ]
  },
  {
   "cell_type": "code",
   "execution_count": null,
   "id": "42d47597",
   "metadata": {},
   "outputs": [],
   "source": [
    "from keras.callbacks import ModelCheckpoint\n",
    "checkpoint = ModelCheckpoint(filepath=dir_model, monitor='val_loss', verbose=1, save_best_only=True, mode='min')\n",
    "callbacks = [checkpoint]\n",
    "\n",
    "history = model.fit_generator(\n",
    "    generator = train_gen,\n",
    "    steps_per_epoch = train_num_batch,\n",
    "    epochs = 2,\n",
    "    validation_data = val_gen,\n",
    "    validation_steps = val_num_batch,\n",
    "    max_queue_size = 20,\n",
    "    verbose = 1,\n",
    "    callbacks = callbacks\n",
    ")"
   ]
  },
  {
   "cell_type": "code",
   "execution_count": 9,
   "id": "fa8ed62a",
   "metadata": {},
   "outputs": [
    {
     "name": "stdout",
     "output_type": "stream",
     "text": [
      "225/225 [==============================] - 124s 367ms/step - loss: 1.4045 - accuracy: 0.4659\n",
      "[1.404510259628296, 0.46586793661117554]\n"
     ]
    }
   ],
   "source": [
    "result = model.evaluate_generator(\n",
    "    generator = val_gen,\n",
    "    steps = val_num_batch,\n",
    "    max_queue_size = 20,\n",
    "    verbose = 1,\n",
    ")\n",
    "print(result)"
   ]
  },
  {
   "cell_type": "code",
   "execution_count": null,
   "id": "51d6b563",
   "metadata": {},
   "outputs": [],
   "source": []
  }
 ],
 "metadata": {
  "kernelspec": {
   "display_name": "Python 3 (ipykernel)",
   "language": "python",
   "name": "python3"
  },
  "language_info": {
   "codemirror_mode": {
    "name": "ipython",
    "version": 3
   },
   "file_extension": ".py",
   "mimetype": "text/x-python",
   "name": "python",
   "nbconvert_exporter": "python",
   "pygments_lexer": "ipython3",
   "version": "3.7.9"
  }
 },
 "nbformat": 4,
 "nbformat_minor": 5
}
