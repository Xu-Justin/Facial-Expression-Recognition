{
 "cells": [
  {
   "cell_type": "code",
   "execution_count": 1,
   "id": "fb7693bd",
   "metadata": {},
   "outputs": [],
   "source": [
    "import numpy as np\n",
    "import config\n",
    "\n",
    "import os\n",
    "os.environ['TF_CPP_MIN_LOG_LEVEL'] = '3'\n",
    "\n",
    "import absl.logging\n",
    "absl.logging.set_verbosity(absl.logging.ERROR)"
   ]
  },
  {
   "cell_type": "code",
   "execution_count": 2,
   "id": "13adae1a",
   "metadata": {},
   "outputs": [],
   "source": [
    "from tensorflow import keras\n",
    "\n",
    "def create_model():\n",
    "    print('Creating new model...', end='\\r')\n",
    "    \n",
    "    Resnet_base = keras.applications.resnet50.ResNet50(include_top=False, input_shape=config.input_shape)\n",
    "    for layer in Resnet_base.layers:\n",
    "        layer.trainable = False\n",
    "    \n",
    "    input_layer = keras.Input(shape=config.input_shape)\n",
    "    Resnet = keras.applications.resnet.preprocess_input(input_layer)\n",
    "    Resnet = Resnet_base(Resnet)\n",
    "    Resnet = keras.layers.GlobalAveragePooling2D()(Resnet)\n",
    "    \n",
    "    net = keras.layers.Dense(units=4096)(Resnet)\n",
    "    net = keras.layers.BatchNormalization()(net)\n",
    "    net = keras.layers.Activation(keras.activations.relu)(net)\n",
    "    net = keras.layers.Dropout(0.4)(net)\n",
    "    \n",
    "    net = keras.layers.Dense(units=2048)(net)\n",
    "    net = keras.layers.BatchNormalization()(net)\n",
    "    net = keras.layers.Activation(keras.activations.relu)(net)\n",
    "    net = keras.layers.Dropout(0.4)(net)\n",
    "    \n",
    "    output_layer = keras.layers.Dense(units=config.output_shape, activation='softmax')(net)\n",
    "    \n",
    "    model=keras.Model(inputs=[input_layer],outputs=[output_layer])\n",
    "    model.compile(\n",
    "        loss='categorical_crossentropy',\n",
    "        optimizer=keras.optimizers.SGD(\n",
    "            learning_rate=3e-4,\n",
    "            momentum=0.9,\n",
    "            decay=1e-5,\n",
    "            nesterov=True\n",
    "        ),\n",
    "        metrics=[\n",
    "            keras.metrics.CategoricalAccuracy(),\n",
    "            keras.metrics.Precision(),\n",
    "            keras.metrics.Recall()\n",
    "        ]\n",
    "    )\n",
    "    print('Successfully created new model.')\n",
    "    return model\n",
    "\n",
    "def load_model(dir):\n",
    "    print('Loading model from %s'%dir, end='\\r')\n",
    "    model = keras.models.load_model(dir)\n",
    "    print('Successfully loaded model from %s'%dir)\n",
    "    return model\n",
    "\n",
    "def save_model(dir, model):\n",
    "    print('Saving model to %s'%dir, end='\\r')\n",
    "    model.save(dir)\n",
    "    print('Successfully saved model to %s'%dir)\n",
    "\n",
    "def save_plot(dir, model):\n",
    "    print('Saving model plot to %s'%dir, end='\\r')\n",
    "    keras.utils.plot_model(model,dir, show_shapes=True, expand_nested=True)\n",
    "    print('Successfully saved model plot to %s'%dir)\n",
    "\n",
    "def save_summary(dir, model):\n",
    "    print('Saving model summary to %s'%dir, end='\\r')\n",
    "    with open(dir, 'w') as f:\n",
    "        model.summary(print_fn=lambda x:f.write(x + '\\n'), expand_nested=True)\n",
    "    print('Successfully saved model summary to %s'%dir)"
   ]
  },
  {
   "cell_type": "code",
   "execution_count": 3,
   "id": "01e97084",
   "metadata": {},
   "outputs": [],
   "source": [
    "augmentation = keras.Sequential(\n",
    "    [\n",
    "        keras.layers.RandomFlip(mode='horizontal'),\n",
    "        keras.layers.RandomZoom(height_factor=(-0.1,0.1)),\n",
    "        keras.layers.RandomTranslation(height_factor=(-0.1,0.1), width_factor=(-0.1,0.1)),\n",
    "        keras.layers.RandomRotation(factor = (0.1))\n",
    "    ]\n",
    ")"
   ]
  },
  {
   "cell_type": "code",
   "execution_count": 4,
   "id": "244ed2c1",
   "metadata": {},
   "outputs": [],
   "source": [
    "def create_index(source):\n",
    "    return (source, os.listdir(source))\n",
    "\n",
    "def generator(source, index, num_batch, data_augmentation=True):\n",
    "    while(True):\n",
    "        np.random.shuffle(index)\n",
    "        for i in range(num_batch):\n",
    "            X, y = np.load( os.path.join(source, index[i]), allow_pickle=True )\n",
    "            X = np.asarray( list(X), 'float32' )\n",
    "            if(data_augmentation):\n",
    "                X = augmentation(X)\n",
    "            y = np.asarray( list(y), 'float32' )\n",
    "            yield(X, y)    \n",
    "\n",
    "def create_generator(index, data_augmentation=True):\n",
    "    source = index[0]\n",
    "    index = index[1]\n",
    "    num_batch = len(index)\n",
    "    gen = generator(source, index, num_batch, data_augmentation)\n",
    "    return gen, num_batch"
   ]
  },
  {
   "cell_type": "code",
   "execution_count": 5,
   "id": "79c7ca25",
   "metadata": {},
   "outputs": [],
   "source": [
    "model_name = 'v1-resnet50'"
   ]
  },
  {
   "cell_type": "markdown",
   "id": "b9ee86f6",
   "metadata": {},
   "source": [
    "#### Training starts here."
   ]
  },
  {
   "cell_type": "code",
   "execution_count": null,
   "id": "54f9d12f",
   "metadata": {},
   "outputs": [],
   "source": [
    "# model = create_model()\n",
    "model = load_model( os.path.join(config.dir_model_saved, '%s/'%model_name) )\n",
    "\n",
    "# save_model(os.path.join(config.dir_model_saved, '%s/'%model_name), model)\n",
    "# save_plot( os.path.join(config.dir_model_plot, '%s-plot.png'%model_name), model )\n",
    "# save_summary( os.path.join(config.dir_model_summary, '%s-summary.txt'%model_name), model )"
   ]
  },
  {
   "cell_type": "code",
   "execution_count": null,
   "id": "da44b916",
   "metadata": {},
   "outputs": [],
   "source": [
    "train_index = create_index(config.train_batch)\n",
    "val_index = create_index(config.val_batch)\n",
    "\n",
    "train_gen, train_num_batch = create_generator(train_index)\n",
    "val_gen, val_num_batch = create_generator(val_index, data_augmentation=False)"
   ]
  },
  {
   "cell_type": "code",
   "execution_count": null,
   "id": "56c119f6",
   "metadata": {},
   "outputs": [],
   "source": [
    "from keras.callbacks import ModelCheckpoint\n",
    "checkpoint = ModelCheckpoint(filepath=os.path.join(config.dir_model_saved, '%s/'%model_name), monitor='val_loss', verbose=1, save_best_only=True, mode='min')\n",
    "callbacks = [checkpoint]\n",
    "\n",
    "history = model.fit(\n",
    "    x = train_gen,\n",
    "    steps_per_epoch = train_num_batch,\n",
    "    validation_data = val_gen,\n",
    "    validation_steps = val_num_batch,\n",
    "    epochs = 50,\n",
    "    verbose = 1,\n",
    "    callbacks = callbacks\n",
    ")"
   ]
  },
  {
   "cell_type": "markdown",
   "id": "1b905a73",
   "metadata": {},
   "source": [
    "#### Testing and evaluation starts here."
   ]
  },
  {
   "cell_type": "code",
   "execution_count": 6,
   "id": "7624bba6",
   "metadata": {},
   "outputs": [],
   "source": [
    "test_index = create_index(config.test_batch)\n",
    "test_gen, test_num_batch = create_generator(test_index, data_augmentation=False)"
   ]
  },
  {
   "cell_type": "code",
   "execution_count": 7,
   "id": "a9b7b57e",
   "metadata": {},
   "outputs": [
    {
     "name": "stdout",
     "output_type": "stream",
     "text": [
      "Successfully loaded model from ../Resources/model_saved/v1-resnet50/\n",
      "224/224 [==============================] - 85s 365ms/step - loss: 1.1609 - categorical_accuracy: 0.5785 - precision_1: 0.6918 - recall_1: 0.4593\n",
      "\n",
      "Accuracy  : 57.85%\n",
      "Precision : 69.18%\n",
      "Recall    : 45.93%\n"
     ]
    }
   ],
   "source": [
    "test_model = load_model( os.path.join(config.dir_model_saved, '%s/'%model_name) )\n",
    "result = test_model.evaluate(\n",
    "    x = test_gen,\n",
    "    steps = test_num_batch-1,\n",
    "    verbose = 1\n",
    ")\n",
    "\n",
    "print()\n",
    "print('Accuracy  : %.2f%%'%( result[1]*100 ))\n",
    "print('Precision : %.2f%%'%( result[2]*100 ))\n",
    "print('Recall    : %.2f%%'%( result[3]*100 ))"
   ]
  },
  {
   "cell_type": "code",
   "execution_count": 8,
   "id": "17773978",
   "metadata": {},
   "outputs": [
    {
     "name": "stdout",
     "output_type": "stream",
     "text": [
      "[[ 487    2   62  105  120   39  143]\n",
      " [  28   41    6   16    7    2   11]\n",
      " [ 149    5  348   73  160  118  171]\n",
      " [  86    2   36 1414   66   44  126]\n",
      " [ 167    5  137  148  477   23  290]\n",
      " [  35    3   47   59   19  607   61]\n",
      " [  87    1   69  143  121   36  776]]\n"
     ]
    }
   ],
   "source": [
    "y_truth = np.array([])\n",
    "y_predict = np.array([])\n",
    "\n",
    "for i in range(test_num_batch):\n",
    "    X, y = next(test_gen)\n",
    "    prediction = test_model(X).numpy()\n",
    "    y_truth = np.hstack( (y_truth, np.argmax(y, axis=1)) )\n",
    "    y_predict = np.hstack( (y_predict, np.argmax(prediction, axis=1)) )\n",
    "\n",
    "from sklearn.metrics import confusion_matrix\n",
    "cm = confusion_matrix(y_truth, y_predict)\n",
    "print(cm)"
   ]
  },
  {
   "cell_type": "code",
   "execution_count": 9,
   "id": "9b5eed22",
   "metadata": {},
   "outputs": [
    {
     "name": "stdout",
     "output_type": "stream",
     "text": [
      "angry                : 50.84%\n",
      "disgust              : 36.94%\n",
      "fear                 : 33.98%\n",
      "happy                : 79.71%\n",
      "sad                  : 38.25%\n",
      "surprise             : 73.04%\n",
      "neutral              : 62.94%\n"
     ]
    }
   ],
   "source": [
    "for i in config.facial_expression:\n",
    "    print(\"%-20s : %.2f%%\"%(config.facial_expression[i], cm[i][i]*100/cm[i].sum()))"
   ]
  }
 ],
 "metadata": {
  "kernelspec": {
   "display_name": "Python 3 (ipykernel)",
   "language": "python",
   "name": "python3"
  },
  "language_info": {
   "codemirror_mode": {
    "name": "ipython",
    "version": 3
   },
   "file_extension": ".py",
   "mimetype": "text/x-python",
   "name": "python",
   "nbconvert_exporter": "python",
   "pygments_lexer": "ipython3",
   "version": "3.7.9"
  }
 },
 "nbformat": 4,
 "nbformat_minor": 5
}
