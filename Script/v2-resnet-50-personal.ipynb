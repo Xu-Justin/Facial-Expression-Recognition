{
 "cells": [
  {
   "cell_type": "code",
   "execution_count": 1,
   "id": "dfef18fd",
   "metadata": {},
   "outputs": [],
   "source": [
    "import numpy as np\n",
    "import config\n",
    "\n",
    "import os\n",
    "os.environ['TF_CPP_MIN_LOG_LEVEL'] = '3'\n",
    "\n",
    "import absl.logging\n",
    "absl.logging.set_verbosity(absl.logging.ERROR)"
   ]
  },
  {
   "cell_type": "code",
   "execution_count": 2,
   "id": "9f862d7f",
   "metadata": {},
   "outputs": [],
   "source": [
    "from tensorflow import keras\n",
    "\n",
    "def create_model():\n",
    "    print('Creating new model...', end='\\r')\n",
    "    \n",
    "    Resnet_base = keras.applications.resnet50.ResNet50(include_top=False, input_shape=config.input_shape)\n",
    "    for layer in Resnet_base.layers:\n",
    "        layer.trainable = False\n",
    "    \n",
    "    input_layer = keras.Input(shape=config.input_shape)\n",
    "    Resnet = keras.applications.resnet.preprocess_input(input_layer)\n",
    "    Resnet = Resnet_base(Resnet)\n",
    "    Resnet = keras.layers.GlobalAveragePooling2D()(Resnet)\n",
    "    \n",
    "    net = keras.layers.Dense(units=4096)(Resnet)\n",
    "    net = keras.layers.BatchNormalization()(net)\n",
    "    net = keras.layers.Activation(keras.activations.relu)(net)\n",
    "    net = keras.layers.Dropout(0.4)(net)\n",
    "    \n",
    "    net = keras.layers.Dense(units=2048)(net)\n",
    "    net = keras.layers.BatchNormalization()(net)\n",
    "    net = keras.layers.Activation(keras.activations.relu)(net)\n",
    "    net = keras.layers.Dropout(0.4)(net)\n",
    "    \n",
    "    output_layer = keras.layers.Dense(units=config.output_shape, activation='softmax')(net)\n",
    "    \n",
    "    model=keras.Model(inputs=[input_layer],outputs=[output_layer])\n",
    "    model.compile(loss='categorical_crossentropy', optimizer=keras.optimizers.Adam(learning_rate=3e-4), metrics=[keras.metrics.CategoricalAccuracy()])\n",
    "    \n",
    "    print('Successfully created new model.')\n",
    "    return model\n",
    "\n",
    "def load_model(dir):\n",
    "    print('Loading model from %s'%dir, end='\\r')\n",
    "    model = keras.models.load_model(dir)\n",
    "    print('Successfully loaded model from %s'%dir)\n",
    "    return model\n",
    "\n",
    "def save_model(dir, model):\n",
    "    print('Saving model to %s'%dir, end='\\r')\n",
    "    model.save(dir)\n",
    "    print('Successfully saved model to %s'%dir)\n",
    "\n",
    "def save_plot(dir, model):\n",
    "    print('Saving model plot to %s'%dir, end='\\r')\n",
    "    keras.utils.plot_model(model,dir, show_shapes=True, expand_nested=True)\n",
    "    print('Successfully saved model plot to %s'%dir)\n",
    "\n",
    "def save_summary(dir, model):\n",
    "    print('Saving model summary to %s'%dir, end='\\r')\n",
    "    with open(dir, 'w') as f:\n",
    "        model.summary(print_fn=lambda x:f.write(x + '\\n'), expand_nested=True)\n",
    "    print('Successfully saved model summary to %s'%dir)"
   ]
  },
  {
   "cell_type": "code",
   "execution_count": null,
   "id": "8a3a2caf",
   "metadata": {},
   "outputs": [],
   "source": [
    "augmentation = keras.Sequential(\n",
    "    [\n",
    "        keras.layers.RandomFlip(mode='horizontal'),\n",
    "        keras.layers.RandomZoom(height_factor=(-0.1,0.1)),\n",
    "        keras.layers.RandomTranslation(height_factor=(-0.1,0.1), width_factor=(-0.1,0.1)),\n",
    "        keras.layers.RandomRotation(factor = (0.1))\n",
    "    ]\n",
    ")"
   ]
  },
  {
   "cell_type": "code",
   "execution_count": 3,
   "id": "66b0833d",
   "metadata": {},
   "outputs": [],
   "source": [
    "def create_index(source):\n",
    "    return (source, os.listdir(source))\n",
    "\n",
    "def generator(source, index, num_batch, data_augmentation=True):\n",
    "    while(True):\n",
    "        np.random.shuffle(index)\n",
    "        for i in range(num_batch):\n",
    "            X, y = np.load( os.path.join(source, index[i]), allow_pickle=True )\n",
    "            X = np.asarray( list(X), 'float32' )\n",
    "            if(data_augmentation):\n",
    "                X = augmentation(X)\n",
    "            y = np.asarray( list(y), 'float32' )\n",
    "            yield(X, y)    \n",
    "\n",
    "def create_generator(index, data_augmentation=True):\n",
    "    source = index[0]\n",
    "    index = index[1]\n",
    "    num_batch = len(index)\n",
    "    gen = generator(source, index, num_batch, data_augmentation)\n",
    "    return gen, num_batch"
   ]
  },
  {
   "cell_type": "code",
   "execution_count": 4,
   "id": "be4fa785",
   "metadata": {},
   "outputs": [],
   "source": [
    "model_name = 'v2-resnet-50-personal'"
   ]
  },
  {
   "cell_type": "code",
   "execution_count": null,
   "id": "920cb9c8",
   "metadata": {},
   "outputs": [],
   "source": [
    "# model = create_model()\n",
    "model = load_model( os.path.join(config.dir_model_saved, '%s/'%model_name) )\n",
    "\n",
    "save_plot( os.path.join(config.dir_model_plot, '%s-plot.png'%model_name), model )\n",
    "save_summary( os.path.join(config.dir_model_summary, '%s-summary.txt'%model_name), model )"
   ]
  },
  {
   "cell_type": "code",
   "execution_count": null,
   "id": "97fe715e",
   "metadata": {},
   "outputs": [],
   "source": [
    "train_index = create_index(config.train_personal_batch)\n",
    "val_index = create_index(config.val_personal_batch)\n",
    "\n",
    "train_gen, train_num_batch = create_generator(train_index)\n",
    "val_gen, val_num_batch = create_generator(val_index, data_augmentation=False)"
   ]
  },
  {
   "cell_type": "code",
   "execution_count": null,
   "id": "42dd429d",
   "metadata": {},
   "outputs": [],
   "source": [
    "from keras.callbacks import ModelCheckpoint\n",
    "checkpoint = ModelCheckpoint(filepath=os.path.join(config.dir_model_saved, '%s/'%model_name), monitor='val_loss', verbose=1, save_best_only=True, mode='min')\n",
    "callbacks = [checkpoint]\n",
    "\n",
    "history = model.fit(\n",
    "    x = train_gen,\n",
    "    steps_per_epoch = train_num_batch,\n",
    "    validation_data = val_gen,\n",
    "    validation_steps = val_num_batch,\n",
    "    epochs = 30,\n",
    "    verbose = 1,\n",
    "    callbacks = callbacks\n",
    ")"
   ]
  },
  {
   "cell_type": "code",
   "execution_count": 5,
   "id": "1cfea69d",
   "metadata": {},
   "outputs": [],
   "source": [
    "test_index = create_index(config.test_batch)\n",
    "test_gen, test_num_batch = create_generator(test_index, data_augmentation=False)"
   ]
  },
  {
   "cell_type": "code",
   "execution_count": 6,
   "id": "cd3a95e7",
   "metadata": {},
   "outputs": [
    {
     "name": "stdout",
     "output_type": "stream",
     "text": [
      "Successfully loaded model from ../Resources/model_saved/v2-resnet-50-personal/\n",
      "225/225 [==============================] - 86s 365ms/step - loss: 3.3441 - categorical_accuracy: 0.2935\n"
     ]
    }
   ],
   "source": [
    "test_model = load_model( os.path.join(config.dir_model_saved, '%s/'%model_name) )\n",
    "result = test_model.evaluate(\n",
    "    x = test_gen,\n",
    "    steps = test_num_batch,\n",
    "    verbose = 1\n",
    ")"
   ]
  }
 ],
 "metadata": {
  "kernelspec": {
   "display_name": "Python 3 (ipykernel)",
   "language": "python",
   "name": "python3"
  },
  "language_info": {
   "codemirror_mode": {
    "name": "ipython",
    "version": 3
   },
   "file_extension": ".py",
   "mimetype": "text/x-python",
   "name": "python",
   "nbconvert_exporter": "python",
   "pygments_lexer": "ipython3",
   "version": "3.7.9"
  }
 },
 "nbformat": 4,
 "nbformat_minor": 5
}
