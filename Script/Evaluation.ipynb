{
 "cells": [
  {
   "cell_type": "code",
   "execution_count": 1,
   "id": "e6720ca7",
   "metadata": {},
   "outputs": [],
   "source": [
    "import os\n",
    "import numpy as np\n",
    "import Model\n",
    "\n",
    "from config import root, dir_dataset_test\n",
    "\n",
    "import warnings\n",
    "warnings.filterwarnings(\"ignore\")"
   ]
  },
  {
   "cell_type": "code",
   "execution_count": 2,
   "id": "e2406ae7",
   "metadata": {},
   "outputs": [],
   "source": [
    "list_of_model_name = [\n",
    "    'v1-resnet-50-fer2013',\n",
    "    'v2-resnet-50-personal'\n",
    "]"
   ]
  },
  {
   "cell_type": "code",
   "execution_count": 3,
   "id": "8f726916",
   "metadata": {},
   "outputs": [],
   "source": [
    "def create_index(source):\n",
    "    return (source, os.listdir(source))\n",
    "\n",
    "def generator(source, index, num_batch, data_augmentation=True):\n",
    "    while(True):\n",
    "        np.random.shuffle(index)\n",
    "        for i in range(num_batch):\n",
    "            X, y = np.load( os.path.join(source, index[i]), allow_pickle=True )\n",
    "            X = np.asarray( list(X), 'float32' )\n",
    "            if(data_augmentation):\n",
    "                X = Model.data_augmentation(X)\n",
    "            y = np.asarray( list(y), 'float32' )\n",
    "            yield(X, y)    \n",
    "\n",
    "def create_generator(index, data_augmentation=True):\n",
    "    source = index[0]\n",
    "    index = index[1]\n",
    "    num_batch = len(index)\n",
    "    gen = generator(source, index, num_batch, data_augmentation)\n",
    "    return gen, num_batch\n",
    "\n",
    "def evaluate(model_path, gen, num_batch):\n",
    "    model = Model.load_model(model_path)\n",
    "    result = model.evaluate_generator(\n",
    "        generator = gen,\n",
    "        steps = num_batch,\n",
    "        max_queue_size = 20,\n",
    "        verbose = 0,\n",
    "    )\n",
    "    return result"
   ]
  },
  {
   "cell_type": "code",
   "execution_count": 4,
   "id": "ae3f6c79",
   "metadata": {},
   "outputs": [],
   "source": [
    "test_index = create_index(dir_dataset_test)\n",
    "test_gen, test_num_batch = create_generator(test_index, data_augmentation=False)"
   ]
  },
  {
   "cell_type": "code",
   "execution_count": 5,
   "id": "22b4cb26",
   "metadata": {},
   "outputs": [
    {
     "name": "stdout",
     "output_type": "stream",
     "text": [
      "Successfully loaded model from ../Model/v1-resnet-50-fer2013\n",
      "Model : v1-resnet-50-fer2013\n",
      "Loss  : 1.189698\n",
      "Acc   : 55.5308%\n",
      "\n",
      "Successfully loaded model from ../Model/v2-resnet-50-personal\n",
      "Model : v2-resnet-50-personal\n",
      "Loss  : 3.238765\n",
      "Acc   : 29.5486%\n",
      "\n"
     ]
    }
   ],
   "source": [
    "for model_name in list_of_model_name:\n",
    "    path_model = os.path.join(root, 'Model/', model_name)\n",
    "    result = evaluate(path_model, test_gen, test_num_batch)\n",
    "    \n",
    "    print('Model : %s'%(model_name))\n",
    "    print('Loss  : %.6f'%(result[0]))\n",
    "    print('Acc   : %.4f%%'%(result[1]*100))\n",
    "    print()"
   ]
  }
 ],
 "metadata": {
  "kernelspec": {
   "display_name": "Python 3 (ipykernel)",
   "language": "python",
   "name": "python3"
  },
  "language_info": {
   "codemirror_mode": {
    "name": "ipython",
    "version": 3
   },
   "file_extension": ".py",
   "mimetype": "text/x-python",
   "name": "python",
   "nbconvert_exporter": "python",
   "pygments_lexer": "ipython3",
   "version": "3.7.9"
  }
 },
 "nbformat": 4,
 "nbformat_minor": 5
}
